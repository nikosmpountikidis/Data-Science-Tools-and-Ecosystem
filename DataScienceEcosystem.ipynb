{
 "cells": [
  {
   "cell_type": "markdown",
   "id": "4b180708",
   "metadata": {},
   "source": [
    "__Objectives:__\n",
    "\n",
    "* Popular programming languages for Data Science\n",
    "* Popular libraries for Data Science\n",
    "* Data Science tools\n",
    "* Arithmetic expressions in Python\n",
    "* Examples of arithmetic expressions in Python"
   ]
  },
  {
   "cell_type": "markdown",
   "id": "459c41e7",
   "metadata": {},
   "source": [
    "# Data Science Tools and Ecosystem"
   ]
  },
  {
   "cell_type": "markdown",
   "id": "c80d3b08",
   "metadata": {},
   "source": [
    "In this notebook, Data Science Tools and Ecosystem are summarized. "
   ]
  },
  {
   "cell_type": "markdown",
   "id": "2a4e10d2",
   "metadata": {},
   "source": [
    "The most popular programming languages for Data Scientists are:\n",
    "\n",
    "    1. Python\n",
    "    2. R\n",
    "    3. Scala\n",
    "    4. Julia\n",
    "    5. SQL\n",
    "    6. C/C++\n",
    "    7. Java"
   ]
  },
  {
   "cell_type": "markdown",
   "id": "68f6ebf8",
   "metadata": {},
   "source": [
    "The most popular libraries for Data Scientists are:\n",
    "    \n",
    "    1. Scikit-learn\n",
    "    2. PyTorch\n",
    "    3. TensorFlow\n",
    "    4. NumPy\n",
    "    5. Pandas\n",
    "    6. Matplotlib\n",
    "    7. Seaborn\n",
    "    8. Keras\n",
    "    "
   ]
  },
  {
   "cell_type": "markdown",
   "id": "59349253",
   "metadata": {},
   "source": [
    "|Data Science Tools|\n",
    "|------------------|\n",
    "|Jupyter Notebook|\n",
    "|Rstudio|\n",
    "|Vscode|"
   ]
  },
  {
   "cell_type": "markdown",
   "id": "bb7dcd97",
   "metadata": {},
   "source": [
    "### Below are a few examples of evaluating arithmetic expressions in Python:\n",
    "* x+y\n",
    "* x*y\n",
    "* x/y\n",
    "* x-y\n",
    "* x<sup>2</sup>\n"
   ]
  },
  {
   "cell_type": "code",
   "execution_count": 3,
   "id": "a14db41d",
   "metadata": {},
   "outputs": [
    {
     "data": {
      "text/plain": [
       "17"
      ]
     },
     "execution_count": 3,
     "metadata": {},
     "output_type": "execute_result"
    }
   ],
   "source": [
    "#This is a simple arithmetic expression to multiply then add integers.\n",
    "(3*4)+5"
   ]
  },
  {
   "cell_type": "code",
   "execution_count": 7,
   "id": "497f8b66",
   "metadata": {},
   "outputs": [
    {
     "data": {
      "text/plain": [
       "3.3333333333333335"
      ]
     },
     "execution_count": 7,
     "metadata": {},
     "output_type": "execute_result"
    }
   ],
   "source": [
    "#This will convert 200 minutes to hours by diving by 60\n",
    "200/60"
   ]
  },
  {
   "cell_type": "markdown",
   "id": "2940cf1d",
   "metadata": {},
   "source": [
    "## Author\n",
    "Bountikidis Nikolaos"
   ]
  }
 ],
 "metadata": {
  "kernelspec": {
   "display_name": "Python 3 (ipykernel)",
   "language": "python",
   "name": "python3"
  },
  "language_info": {
   "codemirror_mode": {
    "name": "ipython",
    "version": 3
   },
   "file_extension": ".py",
   "mimetype": "text/x-python",
   "name": "python",
   "nbconvert_exporter": "python",
   "pygments_lexer": "ipython3",
   "version": "3.9.13"
  }
 },
 "nbformat": 4,
 "nbformat_minor": 5
}
